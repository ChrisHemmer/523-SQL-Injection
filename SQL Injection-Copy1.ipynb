{
 "cells": [
  {
   "cell_type": "markdown",
   "metadata": {},
   "source": [
    " # SQL Injection Demo"
   ]
  },
  {
   "cell_type": "markdown",
   "metadata": {},
   "source": [
    "Setting up connection to db"
   ]
  },
  {
   "cell_type": "code",
   "execution_count": 1,
   "metadata": {},
   "outputs": [],
   "source": [
    "import sqlite3\n",
    "import pandas as pd\n",
    "conn = sqlite3.connect('demonstration.db')\n",
    "cursor = conn.cursor()\n"
   ]
  },
  {
   "cell_type": "code",
   "execution_count": 2,
   "metadata": {},
   "outputs": [],
   "source": [
    "def print_users(result):\n",
    "    if (len(result) == 0):\n",
    "        print(\"No data retrieved\")\n",
    "    else:\n",
    "        print(pd.DataFrame(result, columns=[\"username\", \"first name\", \"last name\", \"password\"]))\n",
    "    "
   ]
  },
  {
   "cell_type": "markdown",
   "metadata": {},
   "source": [
    "# Example from presentation (Unsafe)"
   ]
  },
  {
   "cell_type": "code",
   "execution_count": 7,
   "metadata": {},
   "outputs": [],
   "source": [
    "def unsafe_find_user_by_fName(fName):\n",
    "    query = \"SELECT username, fName, lName, password FROM users where fName = '\" + fName + \"'\"\n",
    "    print(\"Resulting query: \" + query + \"\\n\")\n",
    "    result = cursor.execute(query).fetchall()\n",
    "    print_users(result)"
   ]
  },
  {
   "cell_type": "markdown",
   "metadata": {},
   "source": [
    "## Intended usage"
   ]
  },
  {
   "cell_type": "code",
   "execution_count": 8,
   "metadata": {},
   "outputs": [
    {
     "name": "stdout",
     "output_type": "stream",
     "text": [
      "Resulting query: SELECT username, fName, lName, password FROM users where fName = 'David'\n",
      "\n",
      "            username first name last name        password\n",
      "0  ComputerWhisperer      David    Stotts  i032r23b2o1kwe\n"
     ]
    }
   ],
   "source": [
    "unsafe_find_user_by_fName(\"David\")"
   ]
  },
  {
   "cell_type": "markdown",
   "metadata": {},
   "source": [
    "## Intended, non malicious usage"
   ]
  },
  {
   "cell_type": "code",
   "execution_count": 9,
   "metadata": {},
   "outputs": [
    {
     "name": "stdout",
     "output_type": "stream",
     "text": [
      "Resulting query: SELECT username, fName, lName, password FROM users where fName = 'Dav'id'\n",
      "\n"
     ]
    },
    {
     "ename": "OperationalError",
     "evalue": "near \"id\": syntax error",
     "output_type": "error",
     "traceback": [
      "\u001b[0;31m---------------------------------------------------------------------------\u001b[0m",
      "\u001b[0;31mOperationalError\u001b[0m                          Traceback (most recent call last)",
      "\u001b[0;32m<ipython-input-9-75b1fcb10ea7>\u001b[0m in \u001b[0;36m<module>\u001b[0;34m()\u001b[0m\n\u001b[0;32m----> 1\u001b[0;31m \u001b[0munsafe_find_user_by_fName\u001b[0m\u001b[0;34m(\u001b[0m\u001b[0;34m\"Dav'id\"\u001b[0m\u001b[0;34m)\u001b[0m\u001b[0;34m\u001b[0m\u001b[0m\n\u001b[0m",
      "\u001b[0;32m<ipython-input-7-429c7d4898f2>\u001b[0m in \u001b[0;36munsafe_find_user_by_fName\u001b[0;34m(fName)\u001b[0m\n\u001b[1;32m      2\u001b[0m     \u001b[0mquery\u001b[0m \u001b[0;34m=\u001b[0m \u001b[0;34m\"SELECT username, fName, lName, password FROM users where fName = '\"\u001b[0m \u001b[0;34m+\u001b[0m \u001b[0mfName\u001b[0m \u001b[0;34m+\u001b[0m \u001b[0;34m\"'\"\u001b[0m\u001b[0;34m\u001b[0m\u001b[0m\n\u001b[1;32m      3\u001b[0m     \u001b[0mprint\u001b[0m\u001b[0;34m(\u001b[0m\u001b[0;34m\"Resulting query: \"\u001b[0m \u001b[0;34m+\u001b[0m \u001b[0mquery\u001b[0m \u001b[0;34m+\u001b[0m \u001b[0;34m\"\\n\"\u001b[0m\u001b[0;34m)\u001b[0m\u001b[0;34m\u001b[0m\u001b[0m\n\u001b[0;32m----> 4\u001b[0;31m     \u001b[0mresult\u001b[0m \u001b[0;34m=\u001b[0m \u001b[0mcursor\u001b[0m\u001b[0;34m.\u001b[0m\u001b[0mexecute\u001b[0m\u001b[0;34m(\u001b[0m\u001b[0mquery\u001b[0m\u001b[0;34m)\u001b[0m\u001b[0;34m.\u001b[0m\u001b[0mfetchall\u001b[0m\u001b[0;34m(\u001b[0m\u001b[0;34m)\u001b[0m\u001b[0;34m\u001b[0m\u001b[0m\n\u001b[0m\u001b[1;32m      5\u001b[0m     \u001b[0mprint_users\u001b[0m\u001b[0;34m(\u001b[0m\u001b[0mresult\u001b[0m\u001b[0;34m)\u001b[0m\u001b[0;34m\u001b[0m\u001b[0m\n",
      "\u001b[0;31mOperationalError\u001b[0m: near \"id\": syntax error"
     ]
    }
   ],
   "source": [
    "unsafe_find_user_by_fName(\"Dav'id\")"
   ]
  },
  {
   "cell_type": "markdown",
   "metadata": {},
   "source": [
    "## Malicious usage"
   ]
  },
  {
   "cell_type": "code",
   "execution_count": 10,
   "metadata": {},
   "outputs": [
    {
     "name": "stdout",
     "output_type": "stream",
     "text": [
      "Resulting query: SELECT username, fName, lName, password FROM users where fName = 'David' OR 1=1--'\n",
      "\n",
      "            username first name last name        password\n",
      "0         CompSciKid      James     Jones      password01\n",
      "1        GuyWhoCodes     Steven     Smith          123456\n",
      "2  ComputerWhisperer      David    Stotts  i032r23b2o1kwe\n",
      "3     TheCodeBringer      Brian  Richards        drowssap\n"
     ]
    }
   ],
   "source": [
    "unsafe_find_user_by_fName(\"David' OR 1=1--\")"
   ]
  },
  {
   "cell_type": "markdown",
   "metadata": {},
   "source": [
    "# Preventing SQL Injection"
   ]
  },
  {
   "cell_type": "code",
   "execution_count": 13,
   "metadata": {},
   "outputs": [],
   "source": [
    "def safe_find_user_by_fName(fName):\n",
    "    query = \"SELECT username, fName, lName, password FROM users where fName =?\"\n",
    "    result = cursor.execute(query, (fName,)).fetchall()\n",
    "    print_users(result)"
   ]
  },
  {
   "cell_type": "markdown",
   "metadata": {},
   "source": [
    "# Intended usage"
   ]
  },
  {
   "cell_type": "code",
   "execution_count": 14,
   "metadata": {},
   "outputs": [
    {
     "name": "stdout",
     "output_type": "stream",
     "text": [
      "            username first name last name        password\n",
      "0  ComputerWhisperer      David    Stotts  i032r23b2o1kwe\n"
     ]
    }
   ],
   "source": [
    "safe_find_user_by_fName(\"David\")"
   ]
  },
  {
   "cell_type": "markdown",
   "metadata": {},
   "source": [
    "# Intended, non malicious usage"
   ]
  },
  {
   "cell_type": "code",
   "execution_count": 15,
   "metadata": {},
   "outputs": [
    {
     "name": "stdout",
     "output_type": "stream",
     "text": [
      "No data retrieved\n"
     ]
    }
   ],
   "source": [
    "safe_find_user_by_fName(\"Dav'id\")"
   ]
  },
  {
   "cell_type": "markdown",
   "metadata": {},
   "source": [
    "# Malicious usage"
   ]
  },
  {
   "cell_type": "code",
   "execution_count": 17,
   "metadata": {},
   "outputs": [
    {
     "name": "stdout",
     "output_type": "stream",
     "text": [
      "No data retrieved\n"
     ]
    }
   ],
   "source": [
    "safe_find_user_by_fName(\"David OR 1=1--\")"
   ]
  },
  {
   "cell_type": "markdown",
   "metadata": {},
   "source": [
    "# Unsafe method"
   ]
  },
  {
   "cell_type": "code",
   "execution_count": null,
   "metadata": {},
   "outputs": [],
   "source": [
    "def unsafe_get_user_by_id(id):\n",
    "    # String concatenation and substitution are both vulnerable\n",
    "    query = \"SELECT username, fName, lName, password FROM users WHERE uid = \" + id\n",
    "    #query = \"SELECT username, fName, lName, password FROM users WHERE uid = %s\" % id\n",
    "    print(\"Resulting query: \" + query + \"\\n\")\n",
    "    result = cursor.execute(query).fetchall()\n",
    "    print_users(result)"
   ]
  },
  {
   "cell_type": "markdown",
   "metadata": {},
   "source": [
    "## Intended usage"
   ]
  },
  {
   "cell_type": "code",
   "execution_count": null,
   "metadata": {},
   "outputs": [],
   "source": [
    "unsafe_get_user_by_id(\"1\")"
   ]
  },
  {
   "cell_type": "markdown",
   "metadata": {},
   "source": [
    "## Unintended usage"
   ]
  },
  {
   "cell_type": "code",
   "execution_count": null,
   "metadata": {},
   "outputs": [],
   "source": [
    "unsafe_get_user_by_id(\"1 OR 1=1\")"
   ]
  },
  {
   "cell_type": "markdown",
   "metadata": {},
   "source": [
    "\n",
    "\n",
    "\n",
    "\n",
    "\n",
    "# Safe Method"
   ]
  },
  {
   "cell_type": "code",
   "execution_count": null,
   "metadata": {},
   "outputs": [],
   "source": [
    "def safe_get_user_by_id(id):\n",
    "    query = \"SELECT username, fName, lName, password FROM users WHERE uid = ?\"\n",
    "    result = cursor.execute(query, (id,)).fetchall()\n",
    "    print_users(result)"
   ]
  },
  {
   "cell_type": "markdown",
   "metadata": {},
   "source": [
    "# Intended usage"
   ]
  },
  {
   "cell_type": "code",
   "execution_count": null,
   "metadata": {},
   "outputs": [],
   "source": [
    "safe_get_user_by_id(\"1\")"
   ]
  },
  {
   "cell_type": "markdown",
   "metadata": {},
   "source": [
    "# Unintended usage"
   ]
  },
  {
   "cell_type": "code",
   "execution_count": null,
   "metadata": {},
   "outputs": [],
   "source": [
    "safe_get_user_by_id(\"1 OR 1=1\")"
   ]
  }
 ],
 "metadata": {
  "kernelspec": {
   "display_name": "Python 3",
   "language": "python",
   "name": "python3"
  },
  "language_info": {
   "codemirror_mode": {
    "name": "ipython",
    "version": 3
   },
   "file_extension": ".py",
   "mimetype": "text/x-python",
   "name": "python",
   "nbconvert_exporter": "python",
   "pygments_lexer": "ipython3",
   "version": "3.6.5"
  }
 },
 "nbformat": 4,
 "nbformat_minor": 2
}
