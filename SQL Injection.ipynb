{
 "cells": [
  {
   "cell_type": "markdown",
   "metadata": {},
   "source": [
    " # SQL Injection Demo"
   ]
  },
  {
   "cell_type": "markdown",
   "metadata": {},
   "source": [
    "# Setting up connection to db"
   ]
  },
  {
   "cell_type": "code",
   "execution_count": 1,
   "metadata": {},
   "outputs": [],
   "source": [
    "import sqlite3\n",
    "import pandas as pd\n",
    "conn = sqlite3.connect('demonstration.db')\n",
    "cursor = conn.cursor()\n"
   ]
  },
  {
   "cell_type": "code",
   "execution_count": 2,
   "metadata": {},
   "outputs": [],
   "source": [
    "def print_users(result):\n",
    "    if (len(result) == 0):\n",
    "        print(\"No data retrieved\")\n",
    "    else:\n",
    "        print(pd.DataFrame(result, columns=[\"username\", \"first name\", \"last name\", \"password\"]))\n",
    "    "
   ]
  },
  {
   "cell_type": "markdown",
   "metadata": {},
   "source": [
    "# Example from presentation (Unsafe)"
   ]
  },
  {
   "cell_type": "code",
   "execution_count": 3,
   "metadata": {},
   "outputs": [],
   "source": [
    "def unsafe_find_user_by_fName(fName):\n",
    "    # Both of these query creations are unsafe\n",
    "    query = \"SELECT username, fName, lName, password FROM users where fName = '\" + fName + \"'\"\n",
    "    #query = \"SELECT username, fName, lName, password FROM users where fName = '%s'\" % fName\n",
    "    print(\"Resulting query: \" + query + \"\\n\")\n",
    "    try:\n",
    "        result = cursor.execute(query).fetchall()\n",
    "        print_users(result)\n",
    "    except sqlite3.OperationalError as e:\n",
    "        print(\"Error thrown -  \" + str(e))"
   ]
  },
  {
   "cell_type": "markdown",
   "metadata": {},
   "source": [
    "## Intended usage"
   ]
  },
  {
   "cell_type": "code",
   "execution_count": 4,
   "metadata": {},
   "outputs": [
    {
     "name": "stdout",
     "output_type": "stream",
     "text": [
      "Resulting query: SELECT username, fName, lName, password FROM users where fName = 'David'\n",
      "\n",
      "            username first name last name        password\n",
      "0  ComputerWhisperer      David    Stotts  i032r23b2o1kwe\n"
     ]
    }
   ],
   "source": [
    "unsafe_find_user_by_fName(\"David\")"
   ]
  },
  {
   "cell_type": "markdown",
   "metadata": {},
   "source": [
    "## Intended, non malicious usage"
   ]
  },
  {
   "cell_type": "code",
   "execution_count": 5,
   "metadata": {},
   "outputs": [
    {
     "name": "stdout",
     "output_type": "stream",
     "text": [
      "Resulting query: SELECT username, fName, lName, password FROM users where fName = 'Dav'id'\n",
      "\n",
      "Error thrown -  near \"id\": syntax error\n"
     ]
    }
   ],
   "source": [
    "unsafe_find_user_by_fName(\"Dav'id\")"
   ]
  },
  {
   "cell_type": "markdown",
   "metadata": {},
   "source": [
    "## Malicious usage"
   ]
  },
  {
   "cell_type": "code",
   "execution_count": 6,
   "metadata": {
    "scrolled": true
   },
   "outputs": [
    {
     "name": "stdout",
     "output_type": "stream",
     "text": [
      "Resulting query: SELECT username, fName, lName, password FROM users where fName = 'David' OR 1=1--'\n",
      "\n",
      "            username first name last name        password\n",
      "0         CompSciKid      James     Jones      password01\n",
      "1        GuyWhoCodes     Steven     Smith          123456\n",
      "2  ComputerWhisperer      David    Stotts  i032r23b2o1kwe\n",
      "3     TheCodeBringer     Dav'id  Richards        drowssap\n"
     ]
    }
   ],
   "source": [
    "unsafe_find_user_by_fName(\"David' OR 1=1--\")"
   ]
  },
  {
   "cell_type": "markdown",
   "metadata": {},
   "source": [
    "\n",
    "\n",
    "\n",
    "# Preventing SQL Injection"
   ]
  },
  {
   "cell_type": "code",
   "execution_count": 8,
   "metadata": {},
   "outputs": [],
   "source": [
    "def safe_find_user_by_fName(fName):\n",
    "    # Technically a parameterized query, not a prepared statement, but for the purpose of demonstration, works the same\n",
    "    # Essentially creates a prepared statement and immediately fills in the fields, as opposed to doing it as separate\n",
    "    # Operations\n",
    "    query = \"SELECT username, fName, lName, password FROM users where fName =?\"\n",
    "    result = cursor.execute(query, (fName,)).fetchall()\n",
    "    print_users(result)"
   ]
  },
  {
   "cell_type": "markdown",
   "metadata": {},
   "source": [
    "# Intended usage"
   ]
  },
  {
   "cell_type": "code",
   "execution_count": 9,
   "metadata": {},
   "outputs": [
    {
     "name": "stdout",
     "output_type": "stream",
     "text": [
      "            username first name last name        password\n",
      "0  ComputerWhisperer      David    Stotts  i032r23b2o1kwe\n"
     ]
    }
   ],
   "source": [
    "safe_find_user_by_fName(\"David\")"
   ]
  },
  {
   "cell_type": "markdown",
   "metadata": {},
   "source": [
    "# Intended, non malicious usage"
   ]
  },
  {
   "cell_type": "code",
   "execution_count": 10,
   "metadata": {},
   "outputs": [
    {
     "name": "stdout",
     "output_type": "stream",
     "text": [
      "         username first name last name  password\n",
      "0  TheCodeBringer     Dav'id  Richards  drowssap\n"
     ]
    }
   ],
   "source": [
    "safe_find_user_by_fName(\"Dav'id\")"
   ]
  },
  {
   "cell_type": "markdown",
   "metadata": {},
   "source": [
    "# Malicious usage"
   ]
  },
  {
   "cell_type": "code",
   "execution_count": 11,
   "metadata": {},
   "outputs": [
    {
     "name": "stdout",
     "output_type": "stream",
     "text": [
      "No data retrieved\n"
     ]
    }
   ],
   "source": [
    "safe_find_user_by_fName(\"David OR 1=1--\")"
   ]
  },
  {
   "cell_type": "code",
   "execution_count": 12,
   "metadata": {},
   "outputs": [],
   "source": [
    "conn.close()"
   ]
  },
  {
   "cell_type": "code",
   "execution_count": null,
   "metadata": {},
   "outputs": [],
   "source": []
  }
 ],
 "metadata": {
  "kernelspec": {
   "display_name": "Python 3",
   "language": "python",
   "name": "python3"
  },
  "language_info": {
   "codemirror_mode": {
    "name": "ipython",
    "version": 3
   },
   "file_extension": ".py",
   "mimetype": "text/x-python",
   "name": "python",
   "nbconvert_exporter": "python",
   "pygments_lexer": "ipython3",
   "version": "3.6.5"
  }
 },
 "nbformat": 4,
 "nbformat_minor": 2
}
